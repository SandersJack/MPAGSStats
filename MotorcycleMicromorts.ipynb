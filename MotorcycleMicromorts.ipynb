{
 "cells": [
  {
   "cell_type": "markdown",
   "metadata": {
    "collapsed": true
   },
   "source": [
    "# Motorcycle Mircomorts"
   ]
  },
  {
   "cell_type": "markdown",
   "metadata": {},
   "source": [
    "In this notebook, we'll simulate the motorcycle micromort question. The shape of the numerical answer will give you a hint for what the analytical answer will be. You might be surprised how easy it is, in the end.\n",
    "\n",
    "You can either run this in binder\n",
    "https://mybinder.org/v2/gh/JonasRademacker/JupyterNotebooksForTeachingMath/master?filepath=MotorcycleMicromorts.ipynb , \n",
    "\n",
    "or - much, much better, although a bit hasslesome the first time you set it up - you can run it on your own computer. To do that:\n",
    "\n",
    "1) Download and install anaconda (https://www.anaconda.com/). \n",
    "\n",
    "2) Download this file from github. Do so by clicking on \"Raw\", and then asking your browser to save the file (in Firefox: File -> Save Pages As...)\n",
    "\n",
    "Alternatively, you can download the entire github repository. Open a terminal window. Go to the directory where you want a copy of this github repository to live on your computer. Then execute the command:\n",
    "\n",
    "git clone https://github.com/JonasRademacker/JupyterNotebooksForTeachingMath.git\n",
    "\n",
    "(alternatively, go to https://github.com/JonasRademacker/JupyterNotebooksForTeachingMath and find the green \"Code\" button and take it from there)\n",
    "\n",
    "3) Open a terminal window, go to the directory where this file is, and type: jupyter notebook\n",
    "\n",
    "This file should now open in your browser (again), and you can edit it and execute and save the code.\n",
    "\n",
    "Remember, to excecute each field, do shift+return. Execute the fields in order. If things got messy, go to Kernel and select Restart and Clear all output - and start Shift+Return from the top."
   ]
  },
  {
   "cell_type": "markdown",
   "metadata": {},
   "source": [
    "First import some libraries"
   ]
  },
  {
   "cell_type": "code",
   "execution_count": 4,
   "metadata": {},
   "outputs": [],
   "source": [
    "from math import *\n",
    "import numpy as np\n",
    "import matplotlib.mlab as mlab\n",
    "import matplotlib.pyplot as plt\n"
   ]
  },
  {
   "cell_type": "markdown",
   "metadata": {},
   "source": [
    "Before we start, let's initialise the random number generator. Change the seed to get different outcomes for (peudo)random numbers used in this sheet."
   ]
  },
  {
   "cell_type": "code",
   "execution_count": 3,
   "metadata": {},
   "outputs": [],
   "source": [
    "np.random.seed(650)"
   ]
  },
  {
   "cell_type": "markdown",
   "metadata": {},
   "source": [
    "Our strategy will be to move through my motorcycle journey in 6 mile steps - each step corresponds to one micromort, i.e. a probability of a fatal accident of $10^{-6}$."
   ]
  },
  {
   "cell_type": "code",
   "execution_count": 4,
   "metadata": {},
   "outputs": [
    {
     "name": "stdout",
     "output_type": "stream",
     "text": [
      "deadly accident after  4029801.0 miles\n"
     ]
    }
   ],
   "source": [
    "def Travel(MaxMiles):\n",
    "    stepsize               = 6.0    \n",
    "    steps                  = int(MaxMiles/stepsize)    \n",
    "    probOfAccidentEachStep = 1.e-6\n",
    "\n",
    "    for i in range(steps):\n",
    "        if np.random.random() < probOfAccidentEachStep: # deadly accident happened in this step\n",
    "            return (i+0.5)*stepsize    # we don't know where in the 6 mile stretch - take the middle.\n",
    "        \n",
    "    return -999                        # return a negative number if motorcyclist survived entire journey.\n",
    "\n",
    "made_it_to_mile = Travel(1.e8)\n",
    "print(\"deadly accident after \", made_it_to_mile, \"miles\")"
   ]
  },
  {
   "cell_type": "markdown",
   "metadata": {},
   "source": [
    "Let's repeat this experiment for multiple clones of myself and see if and when they have a fatal accident. First define some functions:"
   ]
  },
  {
   "cell_type": "code",
   "execution_count": 6,
   "metadata": {},
   "outputs": [],
   "source": [
    "def MultipleTrips(NumMotorCyclists, MaxMiles):\n",
    "    lastMileArray = np.zeros(NumMotorCyclists)\n",
    "    for i in range(NumMotorCyclists):\n",
    "        lastMileArray[i]=Travel(MaxMiles)\n",
    "    return lastMileArray\n",
    "\n",
    "def plotLastMiles(lastMileArray, MaxMiles):\n",
    "    nbins = np.count_nonzero(lastMileArray>0)//50    # this gives on average 50 entries per bin.\n",
    "    # Note: a//b is integer devision, so e.g. 12//5=2, in contrast to a/b, which returns a float, so 12/5=2.4\n",
    "    if nbins < 10: \n",
    "        nbins=10\n",
    "    h=plt.hist(lastMileArray, nbins, range=(0, int(MaxMiles)))\n",
    "    plt.show()"
   ]
  },
  {
   "cell_type": "markdown",
   "metadata": {},
   "source": [
    "Now let's use the above functions to simulate 100 clones going on a 6 million mile m/c journey, and plot the results."
   ]
  },
  {
   "cell_type": "code",
   "execution_count": 7,
   "metadata": {},
   "outputs": [
    {
     "name": "stdout",
     "output_type": "stream",
     "text": [
      "41 of the 100 simulated motorcyling clones, survivived the 6000000.0 miles journey.\n"
     ]
    },
    {
     "data": {
      "image/png": "[encoded data removed]",
      "text/plain": [
       "<Figure size 432x288 with 1 Axes>"
      ]
     },
     "metadata": {
      "needs_background": "light"
     },
     "output_type": "display_data"
    }
   ],
   "source": [
    "NumMC=100\n",
    "MaxM =6.0e6\n",
    "LMArray = MultipleTrips(NumMC, MaxM)\n",
    "print(np.count_nonzero(LMArray<0), \"of the\", NumMC, \"simulated motorcyling clones, survivived the\", MaxM, \"miles journey.\")\n",
    "plotLastMiles(LMArray, MaxM)"
   ]
  },
  {
   "cell_type": "markdown",
   "metadata": {},
   "source": [
    "Note, importantly, that several of my simulated motorcycling clones survive this journey. So the probability of a fatal accident in 6 million miles is not 1 (and for 60 millions miles, it is obviously not 10), even though the sum of micromorts is 1 (or 10). So, something quite literally does not add up.\n",
    "\n",
    "BTW, you will have noticed that this code is painfully slow - and to have a smooth distribution you'd want to change NumMC to something much larger, which will take even longer. Below I provide some faster code, which does exactly the same thing - but it has the disadvantage that this is harder to understand and will be more difficult for you to modify. I'd suggest you first convince yourself that you understand the code above, but then use the code below.\n",
    "\n",
    "Final remark: a 6 million mile journey would take more than 11 years constant riding at an average speed of 60mph, without stopping for food, sleep, ..."
   ]
  },
  {
   "cell_type": "markdown",
   "metadata": {},
   "source": [
    "## Task:\n",
    "Play with the numbers - e.g. increase or decrease the number of miles. And if you have sufficient patience, increase the number of motorcylists."
   ]
  },
  {
   "cell_type": "markdown",
   "metadata": {},
   "source": [
    "## Faster, logically identical (but less intuitive) code:"
   ]
  },
  {
   "cell_type": "code",
   "execution_count": 8,
   "metadata": {},
   "outputs": [
    {
     "name": "stdout",
     "output_type": "stream",
     "text": [
      "deadly accident after  10534323.0 miles\n"
     ]
    }
   ],
   "source": [
    "## the code below does exactly the same as the code above, but much faster.\n",
    "## The price for this improvement is that is that it is a bit counter-intuitive.\n",
    "def FasterTravel(MaxMiles):\n",
    "    stepsize               = 6.0    \n",
    "    steps                  = int(MaxMiles/stepsize)    \n",
    "    probOfAccidentEachStep = 1.e-6\n",
    "\n",
    "    batchsize=1000\n",
    "    for i in range(steps//batchsize + 1):\n",
    "        accidents=np.where(np.random.random(batchsize)< probOfAccidentEachStep)\n",
    "        if len(accidents[0]) > 0:\n",
    "            miles = (i*batchsize + accidents[0][0]+0.5)*stepsize\n",
    "            if miles <= MaxMiles: return miles\n",
    "            \n",
    "    return -999  # return a negative number if motorcyclist survived entire journey.\n",
    "\n",
    "made_it_to_mile = FasterTravel(1.e8)\n",
    "print(\"deadly accident after \", made_it_to_mile, \"miles\")"
   ]
  },
  {
   "cell_type": "code",
   "execution_count": 9,
   "metadata": {},
   "outputs": [],
   "source": [
    "def FasterMultipleTrips(NumMotorCyclists, MaxMiles):\n",
    "    lastMileArray = np.zeros(NumMotorCyclists)\n",
    "    for i in range(NumMotorCyclists):\n",
    "        lastMileArray[i]=FasterTravel(MaxMiles)\n",
    "    return lastMileArray"
   ]
  },
  {
   "cell_type": "code",
   "execution_count": 10,
   "metadata": {},
   "outputs": [
    {
     "name": "stdout",
     "output_type": "stream",
     "text": [
      "9737 of the 10000 simulated motorcycling clones survivived the 150000.0 miles journey.\n"
     ]
    },
    {
     "data": {
      "image/png": "[encoded data removed]",
      "text/plain": [
       "<Figure size 432x288 with 1 Axes>"
      ]
     },
     "metadata": {
      "needs_background": "light"
     },
     "output_type": "display_data"
    },
    {
     "name": "stdout",
     "output_type": "stream",
     "text": [
      "BTW, here (and in general for sufficiently short journeys), you should find that the naive approximation P(deadly accident) = miles/6 * 1/1,000,000 works well.\n",
      "Compare:  0.024999999999999998 , 0.0263\n"
     ]
    }
   ],
   "source": [
    "NumMC=10000\n",
    "MaxM =150e3\n",
    "LMArray = FasterMultipleTrips(NumMC, MaxM)\n",
    "print(np.count_nonzero(LMArray<0), \"of the\"\n",
    "      , NumMC, \"simulated motorcycling clones survivived the\"\n",
    "      , MaxM, \"miles journey.\")\n",
    "plotLastMiles(LMArray, MaxM)\n",
    "print(\"BTW, here (and in general for sufficiently short journeys),\",\n",
    "      \"you should find that the naive approximation P(deadly accident) = miles/6 * 1/1,000,000 works well.\")\n",
    "print(\"Compare: \", MaxM/6*1.e-6, \",\", np.count_nonzero(LMArray>0)/len(LMArray))"
   ]
  },
  {
   "cell_type": "code",
   "execution_count": 11,
   "metadata": {},
   "outputs": [
    {
     "name": "stdout",
     "output_type": "stream",
     "text": [
      "359 of the 1000 simulated motorcycling clones survivived the 6000000.0 miles journey.\n"
     ]
    },
    {
     "data": {
      "image/png": "[encoded data removed]",
      "text/plain": [
       "<Figure size 432x288 with 1 Axes>"
      ]
     },
     "metadata": {
      "needs_background": "light"
     },
     "output_type": "display_data"
    }
   ],
   "source": [
    "NumMC=1000\n",
    "MaxM =6.0e6\n",
    "LMArray = FasterMultipleTrips(NumMC, MaxM)\n",
    "print(np.count_nonzero(LMArray<0), \"of the\"\n",
    "      , NumMC, \"simulated motorcycling clones survivived the\"\n",
    "      , MaxM, \"miles journey.\")\n",
    "plotLastMiles(LMArray, MaxM)"
   ]
  },
  {
   "cell_type": "code",
   "execution_count": 12,
   "metadata": {},
   "outputs": [
    {
     "name": "stdout",
     "output_type": "stream",
     "text": [
      "125 of the 1000 simulated motorcycling clones survivived the 12000000.0 miles journey.\n"
     ]
    },
    {
     "data": {
      "image/png": "[encoded data removed]",
      "text/plain": [
       "<Figure size 432x288 with 1 Axes>"
      ]
     },
     "metadata": {
      "needs_background": "light"
     },
     "output_type": "display_data"
    }
   ],
   "source": [
    "NumMC=1000\n",
    "MaxM =12.0e6\n",
    "LMArray = FasterMultipleTrips(NumMC, MaxM)\n",
    "print(np.count_nonzero(LMArray<0), \"of the\", NumMC\n",
    "      , \"simulated motorcycling clones survivived the\", MaxM\n",
    "      , \"miles journey.\")\n",
    "plotLastMiles(LMArray, MaxM)"
   ]
  },
  {
   "cell_type": "code",
   "execution_count": 13,
   "metadata": {},
   "outputs": [
    {
     "ename": "KeyboardInterrupt",
     "evalue": "",
     "output_type": "error",
     "traceback": [
      "\u001b[1;31m---------------------------------------------------------------------------\u001b[0m",
      "\u001b[1;31mKeyboardInterrupt\u001b[0m                         Traceback (most recent call last)",
      "\u001b[1;32m<ipython-input-13-832c421dcbba>\u001b[0m in \u001b[0;36m<module>\u001b[1;34m\u001b[0m\n\u001b[0;32m      1\u001b[0m \u001b[0mNumMC\u001b[0m\u001b[1;33m=\u001b[0m\u001b[1;36m40000\u001b[0m \u001b[1;31m# even with the faster code, this will take long to run with 40,000 clones;\u001b[0m\u001b[1;33m\u001b[0m\u001b[1;33m\u001b[0m\u001b[0m\n\u001b[0;32m      2\u001b[0m \u001b[0mMaxM\u001b[0m \u001b[1;33m=\u001b[0m\u001b[1;36m60.0e6\u001b[0m\u001b[1;33m\u001b[0m\u001b[1;33m\u001b[0m\u001b[0m\n\u001b[1;32m----> 3\u001b[1;33m \u001b[0mLMArray\u001b[0m \u001b[1;33m=\u001b[0m \u001b[0mFasterMultipleTrips\u001b[0m\u001b[1;33m(\u001b[0m\u001b[0mNumMC\u001b[0m\u001b[1;33m,\u001b[0m \u001b[0mMaxM\u001b[0m\u001b[1;33m)\u001b[0m\u001b[1;33m\u001b[0m\u001b[1;33m\u001b[0m\u001b[0m\n\u001b[0m\u001b[0;32m      4\u001b[0m print(np.count_nonzero(LMArray<0), \"of the\"\n\u001b[0;32m      5\u001b[0m       \u001b[1;33m,\u001b[0m \u001b[0mNumMC\u001b[0m\u001b[1;33m,\u001b[0m \u001b[1;34m\"simulated motorcycling clones survivived the\"\u001b[0m\u001b[1;33m\u001b[0m\u001b[1;33m\u001b[0m\u001b[0m\n",
      "\u001b[1;32m<ipython-input-9-23cd4dd19420>\u001b[0m in \u001b[0;36mFasterMultipleTrips\u001b[1;34m(NumMotorCyclists, MaxMiles)\u001b[0m\n\u001b[0;32m      2\u001b[0m     \u001b[0mlastMileArray\u001b[0m \u001b[1;33m=\u001b[0m \u001b[0mnp\u001b[0m\u001b[1;33m.\u001b[0m\u001b[0mzeros\u001b[0m\u001b[1;33m(\u001b[0m\u001b[0mNumMotorCyclists\u001b[0m\u001b[1;33m)\u001b[0m\u001b[1;33m\u001b[0m\u001b[1;33m\u001b[0m\u001b[0m\n\u001b[0;32m      3\u001b[0m     \u001b[1;32mfor\u001b[0m \u001b[0mi\u001b[0m \u001b[1;32min\u001b[0m \u001b[0mrange\u001b[0m\u001b[1;33m(\u001b[0m\u001b[0mNumMotorCyclists\u001b[0m\u001b[1;33m)\u001b[0m\u001b[1;33m:\u001b[0m\u001b[1;33m\u001b[0m\u001b[1;33m\u001b[0m\u001b[0m\n\u001b[1;32m----> 4\u001b[1;33m         \u001b[0mlastMileArray\u001b[0m\u001b[1;33m[\u001b[0m\u001b[0mi\u001b[0m\u001b[1;33m]\u001b[0m\u001b[1;33m=\u001b[0m\u001b[0mFasterTravel\u001b[0m\u001b[1;33m(\u001b[0m\u001b[0mMaxMiles\u001b[0m\u001b[1;33m)\u001b[0m\u001b[1;33m\u001b[0m\u001b[1;33m\u001b[0m\u001b[0m\n\u001b[0m\u001b[0;32m      5\u001b[0m     \u001b[1;32mreturn\u001b[0m \u001b[0mlastMileArray\u001b[0m\u001b[1;33m\u001b[0m\u001b[1;33m\u001b[0m\u001b[0m\n",
      "\u001b[1;32m<ipython-input-8-cf62b5246ee5>\u001b[0m in \u001b[0;36mFasterTravel\u001b[1;34m(MaxMiles)\u001b[0m\n\u001b[0;32m      8\u001b[0m     \u001b[0mbatchsize\u001b[0m\u001b[1;33m=\u001b[0m\u001b[1;36m1000\u001b[0m\u001b[1;33m\u001b[0m\u001b[1;33m\u001b[0m\u001b[0m\n\u001b[0;32m      9\u001b[0m     \u001b[1;32mfor\u001b[0m \u001b[0mi\u001b[0m \u001b[1;32min\u001b[0m \u001b[0mrange\u001b[0m\u001b[1;33m(\u001b[0m\u001b[0msteps\u001b[0m\u001b[1;33m//\u001b[0m\u001b[0mbatchsize\u001b[0m \u001b[1;33m+\u001b[0m \u001b[1;36m1\u001b[0m\u001b[1;33m)\u001b[0m\u001b[1;33m:\u001b[0m\u001b[1;33m\u001b[0m\u001b[1;33m\u001b[0m\u001b[0m\n\u001b[1;32m---> 10\u001b[1;33m         \u001b[0maccidents\u001b[0m\u001b[1;33m=\u001b[0m\u001b[0mnp\u001b[0m\u001b[1;33m.\u001b[0m\u001b[0mwhere\u001b[0m\u001b[1;33m(\u001b[0m\u001b[0mnp\u001b[0m\u001b[1;33m.\u001b[0m\u001b[0mrandom\u001b[0m\u001b[1;33m.\u001b[0m\u001b[0mrandom\u001b[0m\u001b[1;33m(\u001b[0m\u001b[0mbatchsize\u001b[0m\u001b[1;33m)\u001b[0m\u001b[1;33m<\u001b[0m \u001b[0mprobOfAccidentEachStep\u001b[0m\u001b[1;33m)\u001b[0m\u001b[1;33m\u001b[0m\u001b[1;33m\u001b[0m\u001b[0m\n\u001b[0m\u001b[0;32m     11\u001b[0m         \u001b[1;32mif\u001b[0m \u001b[0mlen\u001b[0m\u001b[1;33m(\u001b[0m\u001b[0maccidents\u001b[0m\u001b[1;33m[\u001b[0m\u001b[1;36m0\u001b[0m\u001b[1;33m]\u001b[0m\u001b[1;33m)\u001b[0m \u001b[1;33m>\u001b[0m \u001b[1;36m0\u001b[0m\u001b[1;33m:\u001b[0m\u001b[1;33m\u001b[0m\u001b[1;33m\u001b[0m\u001b[0m\n\u001b[0;32m     12\u001b[0m             \u001b[0mmiles\u001b[0m \u001b[1;33m=\u001b[0m \u001b[1;33m(\u001b[0m\u001b[0mi\u001b[0m\u001b[1;33m*\u001b[0m\u001b[0mbatchsize\u001b[0m \u001b[1;33m+\u001b[0m \u001b[0maccidents\u001b[0m\u001b[1;33m[\u001b[0m\u001b[1;36m0\u001b[0m\u001b[1;33m]\u001b[0m\u001b[1;33m[\u001b[0m\u001b[1;36m0\u001b[0m\u001b[1;33m]\u001b[0m\u001b[1;33m+\u001b[0m\u001b[1;36m0.5\u001b[0m\u001b[1;33m)\u001b[0m\u001b[1;33m*\u001b[0m\u001b[0mstepsize\u001b[0m\u001b[1;33m\u001b[0m\u001b[1;33m\u001b[0m\u001b[0m\n",
      "\u001b[1;32m<__array_function__ internals>\u001b[0m in \u001b[0;36mwhere\u001b[1;34m(*args, **kwargs)\u001b[0m\n",
      "\u001b[1;31mKeyboardInterrupt\u001b[0m: "
     ]
    }
   ],
   "source": [
    "NumMC=40000 # even with the faster code, this will take long to run with 40,000 clones;\n",
    "MaxM =60.0e6\n",
    "LMArray = FasterMultipleTrips(NumMC, MaxM)\n",
    "print(np.count_nonzero(LMArray<0), \"of the\"\n",
    "      , NumMC, \"simulated motorcycling clones survivived the\"\n",
    "      , MaxM, \"miles journey\"\n",
    "      , \"\\n(which, btw, would have taken\", int(MaxM/(60*24*365)), \"years at 60mph).\")\n",
    "plotLastMiles(LMArray, MaxM)"
   ]
  },
  {
   "cell_type": "code",
   "execution_count": 9,
   "metadata": {},
   "outputs": [],
   "source": [
    "def BinomialCalc(MaxMiles):\n",
    "    stepsize               = 6.0    \n",
    "    steps                  = int(MaxMiles/stepsize)    \n",
    "    probOfAccidentEachStep = 1.e-6\n",
    "    \n",
    "    noIterations = 10000\n",
    "    binomial = np.random.binomial(steps,1-probOfAccidentEachStep,noIterations)\n",
    "    deaths = sum(binomial != steps)/noIterations\n",
    "    print(\"Probaility of death from {} Miles is {}\".format(MaxMiles,deaths))"
   ]
  },
  {
   "cell_type": "code",
   "execution_count": 11,
   "metadata": {},
   "outputs": [
    {
     "name": "stdout",
     "output_type": "stream",
     "text": [
      "Probaility of death from 1500 Miles is 0.0002\n",
      "Probaility of death from 6000000.0 Miles is 0.6356\n",
      "Probaility of death from 60000000.0 Miles is 1.0\n"
     ]
    }
   ],
   "source": [
    "BinomialCalc(1500)\n",
    "BinomialCalc(6e6)\n",
    "BinomialCalc(60e6)"
   ]
  },
  {
   "cell_type": "code",
   "execution_count": null,
   "metadata": {},
   "outputs": [],
   "source": []
  }
 ],
 "metadata": {
  "kernelspec": {
   "display_name": "Python 3",
   "language": "python",
   "name": "python3"
  },
  "language_info": {
   "codemirror_mode": {
    "name": "ipython",
    "version": 3
   },
   "file_extension": ".py",
   "mimetype": "text/x-python",
   "name": "python",
   "nbconvert_exporter": "python",
   "pygments_lexer": "ipython3",
   "version": "3.8.8"
  }
 },
 "nbformat": 4,
 "nbformat_minor": 2
}
